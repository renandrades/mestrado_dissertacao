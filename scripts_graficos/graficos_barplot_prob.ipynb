{
 "cells": [
  {
   "cell_type": "markdown",
   "metadata": {},
   "source": [
    "# HPRD\n",
    " \n",
    "Experimentos utilizando a rede [Human Protein Reference Database](https://www.ndexbio.org/viewer/networks/1093e665-86da-11e7-a10d-0ac135e8bacf?accesskey=7fbd23635b798321954e66c63526c46397a3f45b40298cf43f22d07d4feed0fa)\n",
    "\n",
    "## debugging\n"
   ]
  },
  {
   "cell_type": "code",
   "execution_count": 1,
   "metadata": {},
   "outputs": [],
   "source": [
    "import pandas as pd\n",
    "import numpy as np\n",
    "import matplotlib.pyplot as plt\n",
    "import mygene\n",
    "import h5py\n",
    "import pickle\n",
    "import argparse\n",
    "import networkx as nx\n",
    "import seaborn as sns\n",
    "%matplotlib inline"
   ]
  },
  {
   "cell_type": "code",
   "execution_count": 2,
   "metadata": {},
   "outputs": [],
   "source": [
    "import os, sys\n",
    "\n",
    "import stellargraph as sg\n",
    "from stellargraph import StellarGraph\n",
    "from stellargraph import datasets\n",
    "from stellargraph.mapper import (\n",
    "    CorruptedGenerator,\n",
    "    FullBatchNodeGenerator,\n",
    "    GraphSAGENodeGenerator,\n",
    "    HinSAGENodeGenerator,\n",
    "    ClusterNodeGenerator,\n",
    ")\n",
    "\n",
    "from stellargraph.layer import GCN, DeepGraphInfomax, GraphSAGE, GAT, APPNP, HinSAGE\n",
    "from stellargraph.utils import plot_history\n",
    "\n",
    "from tensorflow.keras import layers, optimizers, losses, metrics, Model\n",
    "from sklearn import preprocessing, feature_extraction, model_selection\n",
    "from sklearn.linear_model import LogisticRegression\n",
    "from sklearn.model_selection import StratifiedKFold, ParameterGrid\n",
    "from sklearn.manifold import TSNE\n",
    "from sklearn.metrics import average_precision_score\n",
    "from IPython.display import display, HTML\n",
    "\n",
    "import tensorflow as tf\n",
    "from scipy.sparse import csr_matrix, lil_matrix\n",
    "from tensorflow.keras.optimizers import Adam\n",
    "from tensorflow.keras.callbacks import EarlyStopping\n",
    "\n",
    "from tensorflow.keras import Model\n",
    "from keras.models import Sequential\n",
    "from keras.layers import Dense"
   ]
  },
  {
   "cell_type": "code",
   "execution_count": 3,
   "metadata": {},
   "outputs": [],
   "source": [
    "network = pd.read_csv('C:/Users/renan/Desktop/UFRGS/GNN/data/data_final_v2/HPRD_network.tsv', sep='\\t')\n",
    "\n",
    "features = pd.read_csv('C:/Users/renan/Desktop/UFRGS/GNN/data/data_final_v2/HPRD_features_complete.tsv', sep='\\t', index_col='gene')\n",
    "\n",
    "labels = pd.read_csv('C:/Users/renan/Desktop/UFRGS/GNN/data/data_final_v2/HPRD_labels_semisupervised.tsv', sep='\\t', index_col='gene')"
   ]
  },
  {
   "cell_type": "code",
   "execution_count": 4,
   "metadata": {},
   "outputs": [],
   "source": [
    "# Transformar as labels boleanas em 0/1 para aplicar no preprocessing.OrdinalEncoder\n",
    "labels[\"label\"].replace({False: 0, True: 1}, inplace=True)\n",
    "\n",
    "# Transformar as labels vazias em -1\n",
    "labels[\"label\"] = labels.label.fillna(-1)"
   ]
  },
  {
   "cell_type": "code",
   "execution_count": 5,
   "metadata": {},
   "outputs": [
    {
     "name": "stdout",
     "output_type": "stream",
     "text": [
      "StellarGraph: Undirected multigraph\n",
      " Nodes: 9438, Edges: 36844\n",
      "\n",
      " Node types:\n",
      "  default: [9438]\n",
      "    Features: float32 vector, length 68\n",
      "    Edge types: default-default->default\n",
      "\n",
      " Edge types:\n",
      "    default-default->default: [36844]\n",
      "        Weights: all 1 (default)\n",
      "        Features: none\n"
     ]
    }
   ],
   "source": [
    "G = StellarGraph(edges=network, nodes=features)\n",
    "\n",
    "print(G.info())"
   ]
  },
  {
   "cell_type": "code",
   "execution_count": 6,
   "metadata": {},
   "outputs": [
    {
     "data": {
      "text/html": [
       "<div>\n",
       "<style scoped>\n",
       "    .dataframe tbody tr th:only-of-type {\n",
       "        vertical-align: middle;\n",
       "    }\n",
       "\n",
       "    .dataframe tbody tr th {\n",
       "        vertical-align: top;\n",
       "    }\n",
       "\n",
       "    .dataframe thead th {\n",
       "        text-align: right;\n",
       "    }\n",
       "</style>\n",
       "<table border=\"1\" class=\"dataframe\">\n",
       "  <thead>\n",
       "    <tr style=\"text-align: right;\">\n",
       "      <th></th>\n",
       "      <th>label</th>\n",
       "    </tr>\n",
       "  </thead>\n",
       "  <tbody>\n",
       "    <tr>\n",
       "      <th>0.0</th>\n",
       "      <td>4873</td>\n",
       "    </tr>\n",
       "    <tr>\n",
       "      <th>-1.0</th>\n",
       "      <td>3772</td>\n",
       "    </tr>\n",
       "    <tr>\n",
       "      <th>1.0</th>\n",
       "      <td>793</td>\n",
       "    </tr>\n",
       "  </tbody>\n",
       "</table>\n",
       "</div>"
      ],
      "text/plain": [
       "      label\n",
       " 0.0   4873\n",
       "-1.0   3772\n",
       " 1.0    793"
      ]
     },
     "execution_count": 6,
     "metadata": {},
     "output_type": "execute_result"
    }
   ],
   "source": [
    "series_classes = labels['label']\n",
    "\n",
    "series_classes.value_counts(dropna = False).to_frame()"
   ]
  },
  {
   "cell_type": "code",
   "execution_count": 7,
   "metadata": {},
   "outputs": [
    {
     "name": "stdout",
     "output_type": "stream",
     "text": [
      "Train:  4532\n",
      "Test:  1134\n",
      "\n",
      "Total:  5666\n"
     ]
    }
   ],
   "source": [
    "# Dividindo dados em treino/validação/teste\n",
    "\n",
    "train_ratio = 0.80\n",
    "test_ratio = 0.20\n",
    "\n",
    "labeled_data = labels[labels['label'] != -1]\n",
    "labeled_data = labeled_data.sample(frac=1)\n",
    "\n",
    "# Aqui aplica-se então 20% do tamanho total da rede e o restante para treino\n",
    "labeled_train, labeled_test = model_selection.train_test_split(\n",
    "    labeled_data, test_size=test_ratio, stratify=labeled_data)\n",
    "\n",
    "\n",
    "print(\"Train: \", len(labeled_train))\n",
    "print(\"Test: \", len(labeled_test))\n",
    "print(\"\\nTotal: \", len(labeled_train)+len(labeled_test))"
   ]
  },
  {
   "cell_type": "code",
   "execution_count": 8,
   "metadata": {},
   "outputs": [],
   "source": [
    "# Difinição da função de custo Focal Loss\n",
    "\n",
    "import dill\n",
    "\n",
    "from keras import backend as K\n",
    "\n",
    "def binary_focal_loss(gamma=2., alpha=.25):\n",
    "\n",
    "    def binary_focal_loss_fixed(y_true, y_pred):\n",
    "     \n",
    "        y_true = tf.cast(y_true, tf.float32)\n",
    "        # Define epsilon so that the back-propagation will not result in NaN for 0 divisor case\n",
    "        epsilon = K.epsilon()\n",
    "        # Add the epsilon to prediction value\n",
    "        # y_pred = y_pred + epsilon\n",
    "        # Clip the prediciton value\n",
    "        y_pred = K.clip(y_pred, epsilon, 1.0 - epsilon)\n",
    "        # Calculate p_t\n",
    "        p_t = tf.where(K.equal(y_true, 1), y_pred, 1 - y_pred)\n",
    "        # Calculate alpha_t\n",
    "        alpha_factor = K.ones_like(y_true) * alpha\n",
    "        alpha_t = tf.where(K.equal(y_true, 1), alpha_factor, 1 - alpha_factor)\n",
    "        # Calculate cross entropy\n",
    "        cross_entropy = -K.log(p_t)\n",
    "        weight = alpha_t * K.pow((1 - p_t), gamma)\n",
    "        # Calculate focal loss\n",
    "        loss = weight * cross_entropy\n",
    "        # Sum the losses in mini_batch\n",
    "        loss = K.mean(K.sum(loss, axis=1))\n",
    "        return loss\n",
    "\n",
    "    return binary_focal_loss_fixed"
   ]
  },
  {
   "cell_type": "code",
   "execution_count": 9,
   "metadata": {},
   "outputs": [],
   "source": [
    "def dyn_weighted_bincrossentropy(true, pred):\n",
    "    \"\"\"\n",
    "    Calculates weighted binary cross entropy. The weights are determined dynamically\n",
    "    by the balance of each category. This weight is calculated for each batch.\n",
    "    \n",
    "    The weights are calculted by determining the number of 'pos' and 'neg' classes \n",
    "    in the true labels, then dividing by the number of total predictions.\n",
    "    \n",
    "    For example if there is 1 pos class, and 99 neg class, then the weights are 1/100 and 99/100.\n",
    "    These weights can be applied so false negatives are weighted 99/100, while false postives are weighted\n",
    "    1/100. This prevents the classifier from labeling everything negative and getting 99% accuracy.\n",
    "    \n",
    "    This can be useful for unbalanced catagories.\n",
    "    \"\"\"\n",
    "    true = tf.cast(true, tf.float32)\n",
    "    pred = tf.cast(pred, tf.float32)\n",
    "\n",
    "    # get the total number of inputs\n",
    "    num_pred = keras.backend.sum(keras.backend.cast(pred < 0.5, true.dtype)) + keras.backend.sum(true)\n",
    "    \n",
    "    # get weight of values in 'pos' category\n",
    "    zero_weight =  keras.backend.sum(true)/ num_pred +  keras.backend.epsilon() \n",
    "    \n",
    "    # get weight of values in 'false' category\n",
    "    one_weight = keras.backend.sum(keras.backend.cast(pred < 0.5, true.dtype)) / num_pred +  keras.backend.epsilon()\n",
    "\n",
    "    # calculate the weight vector\n",
    "    weights =  (1.0 - true) * zero_weight +  true * one_weight \n",
    "    \n",
    "    # calculate the binary cross entropy\n",
    "    bin_crossentropy = keras.backend.binary_crossentropy(true, pred)\n",
    "    \n",
    "    # apply the weights\n",
    "    weighted_bin_crossentropy = weights * bin_crossentropy \n",
    "\n",
    "    return keras.backend.mean(weighted_bin_crossentropy)"
   ]
  },
  {
   "cell_type": "code",
   "execution_count": 10,
   "metadata": {},
   "outputs": [],
   "source": [
    "import keras\n",
    "\n",
    "def weighted_bincrossentropy(true, pred, weight_zero = 0.6, weight_one = 1):\n",
    "    \"\"\"\n",
    "    Calculates weighted binary cross entropy. The weights are fixed.\n",
    "        \n",
    "    This can be useful for unbalanced catagories.\n",
    "    \n",
    "    Adjust the weights here depending on what is required.\n",
    "    \n",
    "    For example if there are 10x as many positive classes as negative classes,\n",
    "        if you adjust weight_zero = 1.0, weight_one = 0.1, then false positives \n",
    "        will be penalize 10 times as much as false negatives.\n",
    "    \"\"\"\n",
    "  \n",
    "    true = tf.cast(true, tf.float32)\n",
    "    pred = tf.cast(pred, tf.float32)\n",
    "\n",
    "    # calculate the binary cross entropy\n",
    "    bin_crossentropy = keras.backend.binary_crossentropy(true, pred)\n",
    "    \n",
    "    # apply the weights\n",
    "    weights = true * weight_one + (1. - true) * weight_zero\n",
    "    weighted_bin_crossentropy = weights * bin_crossentropy \n",
    "\n",
    "    return keras.backend.mean(weighted_bin_crossentropy)"
   ]
  },
  {
   "cell_type": "code",
   "execution_count": 11,
   "metadata": {},
   "outputs": [
    {
     "name": "stdout",
     "output_type": "stream",
     "text": [
      "Train:  3625\n",
      "Validation:  907\n"
     ]
    }
   ],
   "source": [
    "target_encoding = preprocessing.LabelBinarizer()\n",
    "\n",
    "validation_ratio = 0.20\n",
    "labeled_train_temp = labeled_train\n",
    "\n",
    "train_temp, labeled_val = model_selection.train_test_split(\n",
    "    labeled_train_temp, test_size=validation_ratio, stratify=labeled_train_temp)\n",
    "\n",
    "train_targets = target_encoding.fit_transform(train_temp)\n",
    "val_targets = target_encoding.transform(labeled_val)\n",
    "test_targets = target_encoding.transform(labeled_test)\n",
    "\n",
    "print(\"Train: \", len(train_temp))\n",
    "print(\"Validation: \", len(labeled_val))"
   ]
  },
  {
   "cell_type": "code",
   "execution_count": 12,
   "metadata": {},
   "outputs": [
    {
     "name": "stdout",
     "output_type": "stream",
     "text": [
      "Examples:\n",
      "    Total: 3625\n",
      "    Positive: 507 (13.99% of total)\n"
     ]
    }
   ],
   "source": [
    "neg, pos = np.bincount(train_temp['label'])\n",
    "total = neg + pos\n",
    "print('Examples:\\n    Total: {}\\n    Positive: {} ({:.2f}% of total)'.format(\n",
    "    total, pos, 100 * pos / total))"
   ]
  },
  {
   "cell_type": "code",
   "execution_count": 13,
   "metadata": {},
   "outputs": [],
   "source": [
    "generator = FullBatchNodeGenerator(G, method=\"gat\")\n",
    "train_gen = generator.flow(train_temp.index, train_targets)"
   ]
  },
  {
   "cell_type": "code",
   "execution_count": 14,
   "metadata": {},
   "outputs": [],
   "source": [
    "gat = GAT(\n",
    "    layer_sizes=[64, 64, train_targets.shape[1]], \n",
    "    activations=[\"ReLU\", \"ReLU\", \"sigmoid\"],\n",
    "    attn_heads=8,\n",
    "    generator=generator,\n",
    "    in_dropout=0.01,\n",
    "    attn_dropout=0.01,\n",
    "    normalize=None,\n",
    ")\n",
    "\n",
    "x_inp, predictions = gat.in_out_tensors()"
   ]
  },
  {
   "cell_type": "code",
   "execution_count": 15,
   "metadata": {},
   "outputs": [],
   "source": [
    "model = Model(inputs=x_inp, outputs=predictions)\n",
    "model.compile(\n",
    "    optimizer=optimizers.Adam(learning_rate=0.0001),\n",
    "    #loss=weighted_bincrossentropy,\n",
    "    #loss=\"binary_crossentropy\",\n",
    "    loss=[binary_focal_loss(gamma=2, alpha=0.75)],\n",
    "    metrics=[\"acc\", metrics.AUC(curve=\"ROC\", name=\"auc_roc\"), metrics.AUC(curve=\"PR\", name=\"auc_pr\")]\n",
    ")\n",
    "\n",
    "val_gen = generator.flow(labeled_val.index, val_targets)\n"
   ]
  },
  {
   "cell_type": "code",
   "execution_count": 16,
   "metadata": {},
   "outputs": [],
   "source": [
    "from tensorflow.keras.callbacks import EarlyStopping, ModelCheckpoint\n",
    "\n",
    "if not os.path.isdir(\"logs\"):\n",
    "    os.makedirs(\"logs\")\n",
    "    \n",
    "es_callback = EarlyStopping(\n",
    "    monitor=\"val_auc_pr\", patience=100 #500 #200\n",
    ")  # patience is the number of epochs to wait before early stopping in case of no further improvement\n",
    "mc_callback = ModelCheckpoint(\n",
    "    \"logs/best_model.h5\", monitor=\"val_auc_pr\", save_best_only=True, save_weights_only=True\n",
    ")"
   ]
  },
  {
   "cell_type": "code",
   "execution_count": 17,
   "metadata": {},
   "outputs": [
    {
     "name": "stdout",
     "output_type": "stream",
     "text": [
      "Epoch 1/100\n",
      "1/1 - 12s - loss: 197.3258 - acc: 0.8262 - auc_roc: 0.4560 - auc_pr: 0.1187 - val_loss: 48.5464 - val_acc: 0.8567 - val_auc_roc: 0.5370 - val_auc_pr: 0.1387\n",
      "Epoch 2/100\n",
      "1/1 - 2s - loss: 194.4570 - acc: 0.8579 - auc_roc: 0.4824 - auc_pr: 0.1236 - val_loss: 47.9053 - val_acc: 0.8589 - val_auc_roc: 0.5396 - val_auc_pr: 0.1405\n",
      "Epoch 3/100\n",
      "1/1 - 2s - loss: 191.9189 - acc: 0.8596 - auc_roc: 0.4815 - auc_pr: 0.1247 - val_loss: 47.3646 - val_acc: 0.8600 - val_auc_roc: 0.5220 - val_auc_pr: 0.1338\n",
      "Epoch 4/100\n",
      "1/1 - 2s - loss: 189.7854 - acc: 0.8599 - auc_roc: 0.4844 - auc_pr: 0.1242 - val_loss: 46.9200 - val_acc: 0.8600 - val_auc_roc: 0.5390 - val_auc_pr: 0.1386\n",
      "Epoch 5/100\n",
      "1/1 - 2s - loss: 188.1066 - acc: 0.8601 - auc_roc: 0.5002 - auc_pr: 0.1282 - val_loss: 46.5685 - val_acc: 0.8600 - val_auc_roc: 0.5356 - val_auc_pr: 0.1375\n",
      "Epoch 6/100\n",
      "1/1 - 2s - loss: 186.6189 - acc: 0.8601 - auc_roc: 0.5014 - auc_pr: 0.1293 - val_loss: 46.3038 - val_acc: 0.8600 - val_auc_roc: 0.5383 - val_auc_pr: 0.1389\n",
      "Epoch 7/100\n",
      "1/1 - 2s - loss: 185.5796 - acc: 0.8601 - auc_roc: 0.4963 - auc_pr: 0.1264 - val_loss: 46.1160 - val_acc: 0.8600 - val_auc_roc: 0.5360 - val_auc_pr: 0.1371\n",
      "Epoch 8/100\n",
      "1/1 - 3s - loss: 185.0647 - acc: 0.8601 - auc_roc: 0.5024 - auc_pr: 0.1272 - val_loss: 45.9934 - val_acc: 0.8600 - val_auc_roc: 0.5359 - val_auc_pr: 0.1374\n",
      "Epoch 9/100\n",
      "1/1 - 3s - loss: 184.4479 - acc: 0.8601 - auc_roc: 0.5044 - auc_pr: 0.1312 - val_loss: 45.9218 - val_acc: 0.8600 - val_auc_roc: 0.5470 - val_auc_pr: 0.1405\n",
      "Epoch 10/100\n",
      "1/1 - 2s - loss: 184.3680 - acc: 0.8601 - auc_roc: 0.5041 - auc_pr: 0.1281 - val_loss: 45.8855 - val_acc: 0.8600 - val_auc_roc: 0.5561 - val_auc_pr: 0.1429\n",
      "Epoch 11/100\n",
      "1/1 - 4s - loss: 184.0404 - acc: 0.8601 - auc_roc: 0.5228 - auc_pr: 0.1327 - val_loss: 45.8698 - val_acc: 0.8600 - val_auc_roc: 0.5460 - val_auc_pr: 0.1397\n",
      "Epoch 12/100\n",
      "1/1 - 3s - loss: 183.9239 - acc: 0.8601 - auc_roc: 0.5220 - auc_pr: 0.1343 - val_loss: 45.8610 - val_acc: 0.8600 - val_auc_roc: 0.5624 - val_auc_pr: 0.1458\n",
      "Epoch 13/100\n",
      "1/1 - 3s - loss: 183.9843 - acc: 0.8601 - auc_roc: 0.5232 - auc_pr: 0.1322 - val_loss: 45.8480 - val_acc: 0.8600 - val_auc_roc: 0.5572 - val_auc_pr: 0.1438\n",
      "Epoch 14/100\n",
      "1/1 - 4s - loss: 184.1898 - acc: 0.8601 - auc_roc: 0.5204 - auc_pr: 0.1319 - val_loss: 45.8226 - val_acc: 0.8600 - val_auc_roc: 0.5664 - val_auc_pr: 0.1464\n",
      "Epoch 15/100\n",
      "1/1 - 3s - loss: 184.0592 - acc: 0.8601 - auc_roc: 0.5351 - auc_pr: 0.1365 - val_loss: 45.7815 - val_acc: 0.8600 - val_auc_roc: 0.5739 - val_auc_pr: 0.1490\n",
      "Epoch 16/100\n",
      "1/1 - 3s - loss: 183.8273 - acc: 0.8601 - auc_roc: 0.5441 - auc_pr: 0.1416 - val_loss: 45.7243 - val_acc: 0.8600 - val_auc_roc: 0.5835 - val_auc_pr: 0.1523\n",
      "Epoch 17/100\n",
      "1/1 - 3s - loss: 183.8107 - acc: 0.8601 - auc_roc: 0.5388 - auc_pr: 0.1370 - val_loss: 45.6518 - val_acc: 0.8600 - val_auc_roc: 0.5875 - val_auc_pr: 0.1548\n",
      "Epoch 18/100\n",
      "1/1 - 2s - loss: 183.0495 - acc: 0.8601 - auc_roc: 0.5652 - auc_pr: 0.1478 - val_loss: 45.5680 - val_acc: 0.8600 - val_auc_roc: 0.6111 - val_auc_pr: 0.1657\n",
      "Epoch 19/100\n",
      "1/1 - 3s - loss: 182.9446 - acc: 0.8601 - auc_roc: 0.5668 - auc_pr: 0.1469 - val_loss: 45.4766 - val_acc: 0.8600 - val_auc_roc: 0.6095 - val_auc_pr: 0.1644\n",
      "Epoch 20/100\n",
      "1/1 - 2s - loss: 182.4624 - acc: 0.8601 - auc_roc: 0.5807 - auc_pr: 0.1523 - val_loss: 45.3821 - val_acc: 0.8600 - val_auc_roc: 0.6210 - val_auc_pr: 0.1696\n",
      "Epoch 21/100\n",
      "1/1 - 2s - loss: 182.2065 - acc: 0.8601 - auc_roc: 0.5866 - auc_pr: 0.1568 - val_loss: 45.2872 - val_acc: 0.8600 - val_auc_roc: 0.6399 - val_auc_pr: 0.1783\n",
      "Epoch 22/100\n",
      "1/1 - 3s - loss: 181.7155 - acc: 0.8601 - auc_roc: 0.5973 - auc_pr: 0.1595 - val_loss: 45.1946 - val_acc: 0.8600 - val_auc_roc: 0.6397 - val_auc_pr: 0.1827\n",
      "Epoch 23/100\n",
      "1/1 - 3s - loss: 181.2673 - acc: 0.8601 - auc_roc: 0.6138 - auc_pr: 0.1682 - val_loss: 45.1067 - val_acc: 0.8600 - val_auc_roc: 0.6569 - val_auc_pr: 0.1880\n",
      "Epoch 24/100\n",
      "1/1 - 3s - loss: 181.0566 - acc: 0.8601 - auc_roc: 0.6219 - auc_pr: 0.1733 - val_loss: 45.0247 - val_acc: 0.8600 - val_auc_roc: 0.6540 - val_auc_pr: 0.1918\n",
      "Epoch 25/100\n",
      "1/1 - 4s - loss: 180.5417 - acc: 0.8601 - auc_roc: 0.6313 - auc_pr: 0.1791 - val_loss: 44.9490 - val_acc: 0.8600 - val_auc_roc: 0.6761 - val_auc_pr: 0.2063\n",
      "Epoch 26/100\n",
      "1/1 - 3s - loss: 180.3095 - acc: 0.8601 - auc_roc: 0.6409 - auc_pr: 0.1839 - val_loss: 44.8794 - val_acc: 0.8600 - val_auc_roc: 0.6815 - val_auc_pr: 0.2071\n",
      "Epoch 27/100\n",
      "1/1 - 3s - loss: 180.0063 - acc: 0.8601 - auc_roc: 0.6503 - auc_pr: 0.1919 - val_loss: 44.8149 - val_acc: 0.8600 - val_auc_roc: 0.6957 - val_auc_pr: 0.2294\n",
      "Epoch 28/100\n",
      "1/1 - 2s - loss: 179.7089 - acc: 0.8601 - auc_roc: 0.6632 - auc_pr: 0.2031 - val_loss: 44.7543 - val_acc: 0.8600 - val_auc_roc: 0.6953 - val_auc_pr: 0.2300\n",
      "Epoch 29/100\n",
      "1/1 - 3s - loss: 179.6484 - acc: 0.8601 - auc_roc: 0.6680 - auc_pr: 0.2068 - val_loss: 44.6961 - val_acc: 0.8600 - val_auc_roc: 0.7118 - val_auc_pr: 0.2471\n",
      "Epoch 30/100\n",
      "1/1 - 2s - loss: 179.3578 - acc: 0.8601 - auc_roc: 0.6708 - auc_pr: 0.2083 - val_loss: 44.6392 - val_acc: 0.8600 - val_auc_roc: 0.7151 - val_auc_pr: 0.2550\n",
      "Epoch 31/100\n",
      "1/1 - 3s - loss: 179.0749 - acc: 0.8601 - auc_roc: 0.6861 - auc_pr: 0.2284 - val_loss: 44.5831 - val_acc: 0.8600 - val_auc_roc: 0.7245 - val_auc_pr: 0.2695\n",
      "Epoch 32/100\n",
      "1/1 - 3s - loss: 178.8818 - acc: 0.8601 - auc_roc: 0.6892 - auc_pr: 0.2279 - val_loss: 44.5268 - val_acc: 0.8600 - val_auc_roc: 0.7191 - val_auc_pr: 0.2625\n",
      "Epoch 33/100\n",
      "1/1 - 2s - loss: 178.7994 - acc: 0.8601 - auc_roc: 0.6915 - auc_pr: 0.2359 - val_loss: 44.4696 - val_acc: 0.8600 - val_auc_roc: 0.7192 - val_auc_pr: 0.2649\n",
      "Epoch 34/100\n",
      "1/1 - 3s - loss: 178.3605 - acc: 0.8601 - auc_roc: 0.7007 - auc_pr: 0.2415 - val_loss: 44.4112 - val_acc: 0.8600 - val_auc_roc: 0.7246 - val_auc_pr: 0.2776\n",
      "Epoch 35/100\n",
      "1/1 - 2s - loss: 178.0929 - acc: 0.8601 - auc_roc: 0.7041 - auc_pr: 0.2491 - val_loss: 44.3523 - val_acc: 0.8600 - val_auc_roc: 0.7287 - val_auc_pr: 0.2782\n",
      "Epoch 36/100\n",
      "1/1 - 3s - loss: 178.0200 - acc: 0.8601 - auc_roc: 0.7006 - auc_pr: 0.2432 - val_loss: 44.2931 - val_acc: 0.8600 - val_auc_roc: 0.7303 - val_auc_pr: 0.2846\n",
      "Epoch 37/100\n",
      "1/1 - 2s - loss: 177.6882 - acc: 0.8601 - auc_roc: 0.7081 - auc_pr: 0.2566 - val_loss: 44.2347 - val_acc: 0.8600 - val_auc_roc: 0.7367 - val_auc_pr: 0.2899\n",
      "Epoch 38/100\n",
      "1/1 - 2s - loss: 177.5128 - acc: 0.8601 - auc_roc: 0.7098 - auc_pr: 0.2511 - val_loss: 44.1777 - val_acc: 0.8600 - val_auc_roc: 0.7343 - val_auc_pr: 0.2915\n",
      "Epoch 39/100\n",
      "1/1 - 3s - loss: 177.4533 - acc: 0.8601 - auc_roc: 0.7112 - auc_pr: 0.2548 - val_loss: 44.1221 - val_acc: 0.8600 - val_auc_roc: 0.7438 - val_auc_pr: 0.3064\n",
      "Epoch 40/100\n",
      "1/1 - 3s - loss: 176.9173 - acc: 0.8601 - auc_roc: 0.7122 - auc_pr: 0.2533 - val_loss: 44.0678 - val_acc: 0.8600 - val_auc_roc: 0.7444 - val_auc_pr: 0.3134\n",
      "Epoch 41/100\n",
      "1/1 - 2s - loss: 176.8185 - acc: 0.8601 - auc_roc: 0.7140 - auc_pr: 0.2588 - val_loss: 44.0144 - val_acc: 0.8600 - val_auc_roc: 0.7490 - val_auc_pr: 0.3166\n",
      "Epoch 42/100\n",
      "1/1 - 3s - loss: 176.4683 - acc: 0.8601 - auc_roc: 0.7232 - auc_pr: 0.2666 - val_loss: 43.9618 - val_acc: 0.8600 - val_auc_roc: 0.7476 - val_auc_pr: 0.3125\n",
      "Epoch 43/100\n",
      "1/1 - 3s - loss: 176.1861 - acc: 0.8601 - auc_roc: 0.7245 - auc_pr: 0.2735 - val_loss: 43.9094 - val_acc: 0.8600 - val_auc_roc: 0.7498 - val_auc_pr: 0.3151\n",
      "Epoch 44/100\n",
      "1/1 - 3s - loss: 176.0070 - acc: 0.8601 - auc_roc: 0.7261 - auc_pr: 0.2794 - val_loss: 43.8566 - val_acc: 0.8600 - val_auc_roc: 0.7510 - val_auc_pr: 0.3157\n",
      "Epoch 45/100\n",
      "1/1 - 2s - loss: 176.0847 - acc: 0.8601 - auc_roc: 0.7232 - auc_pr: 0.2664 - val_loss: 43.8036 - val_acc: 0.8600 - val_auc_roc: 0.7506 - val_auc_pr: 0.3115\n",
      "Epoch 46/100\n",
      "1/1 - 2s - loss: 175.6491 - acc: 0.8601 - auc_roc: 0.7273 - auc_pr: 0.2766 - val_loss: 43.7504 - val_acc: 0.8600 - val_auc_roc: 0.7503 - val_auc_pr: 0.3127\n",
      "Epoch 47/100\n",
      "1/1 - 2s - loss: 175.4008 - acc: 0.8601 - auc_roc: 0.7323 - auc_pr: 0.2747 - val_loss: 43.6966 - val_acc: 0.8600 - val_auc_roc: 0.7572 - val_auc_pr: 0.3304\n",
      "Epoch 48/100\n",
      "1/1 - 2s - loss: 175.2090 - acc: 0.8601 - auc_roc: 0.7344 - auc_pr: 0.2804 - val_loss: 43.6428 - val_acc: 0.8600 - val_auc_roc: 0.7589 - val_auc_pr: 0.3295\n",
      "Epoch 49/100\n",
      "1/1 - 4s - loss: 174.8421 - acc: 0.8601 - auc_roc: 0.7306 - auc_pr: 0.2821 - val_loss: 43.5894 - val_acc: 0.8600 - val_auc_roc: 0.7531 - val_auc_pr: 0.3182\n",
      "Epoch 50/100\n",
      "1/1 - 4s - loss: 174.6193 - acc: 0.8601 - auc_roc: 0.7386 - auc_pr: 0.2919 - val_loss: 43.5364 - val_acc: 0.8600 - val_auc_roc: 0.7557 - val_auc_pr: 0.3279\n",
      "Epoch 51/100\n",
      "1/1 - 4s - loss: 174.2961 - acc: 0.8601 - auc_roc: 0.7436 - auc_pr: 0.3051 - val_loss: 43.4840 - val_acc: 0.8600 - val_auc_roc: 0.7567 - val_auc_pr: 0.3240\n",
      "Epoch 52/100\n",
      "1/1 - 3s - loss: 174.2629 - acc: 0.8601 - auc_roc: 0.7393 - auc_pr: 0.2957 - val_loss: 43.4324 - val_acc: 0.8600 - val_auc_roc: 0.7593 - val_auc_pr: 0.3334\n",
      "Epoch 53/100\n",
      "1/1 - 3s - loss: 173.8495 - acc: 0.8601 - auc_roc: 0.7422 - auc_pr: 0.2926 - val_loss: 43.3813 - val_acc: 0.8600 - val_auc_roc: 0.7613 - val_auc_pr: 0.3367\n",
      "Epoch 54/100\n",
      "1/1 - 3s - loss: 173.6876 - acc: 0.8601 - auc_roc: 0.7410 - auc_pr: 0.2868 - val_loss: 43.3306 - val_acc: 0.8600 - val_auc_roc: 0.7606 - val_auc_pr: 0.3289\n",
      "Epoch 55/100\n",
      "1/1 - 2s - loss: 173.2403 - acc: 0.8601 - auc_roc: 0.7498 - auc_pr: 0.3001 - val_loss: 43.2805 - val_acc: 0.8600 - val_auc_roc: 0.7649 - val_auc_pr: 0.3326\n",
      "Epoch 56/100\n",
      "1/1 - 3s - loss: 173.2114 - acc: 0.8601 - auc_roc: 0.7503 - auc_pr: 0.3136 - val_loss: 43.2306 - val_acc: 0.8600 - val_auc_roc: 0.7652 - val_auc_pr: 0.3401\n",
      "Epoch 57/100\n",
      "1/1 - 2s - loss: 172.9975 - acc: 0.8601 - auc_roc: 0.7500 - auc_pr: 0.3015 - val_loss: 43.1808 - val_acc: 0.8600 - val_auc_roc: 0.7651 - val_auc_pr: 0.3371\n",
      "Epoch 58/100\n",
      "1/1 - 2s - loss: 172.8170 - acc: 0.8601 - auc_roc: 0.7456 - auc_pr: 0.2905 - val_loss: 43.1312 - val_acc: 0.8600 - val_auc_roc: 0.7650 - val_auc_pr: 0.3449\n",
      "Epoch 59/100\n",
      "1/1 - 2s - loss: 172.6911 - acc: 0.8601 - auc_roc: 0.7482 - auc_pr: 0.3005 - val_loss: 43.0816 - val_acc: 0.8600 - val_auc_roc: 0.7631 - val_auc_pr: 0.3455\n",
      "Epoch 60/100\n",
      "1/1 - 2s - loss: 172.2753 - acc: 0.8601 - auc_roc: 0.7542 - auc_pr: 0.3097 - val_loss: 43.0321 - val_acc: 0.8600 - val_auc_roc: 0.7656 - val_auc_pr: 0.3502\n",
      "Epoch 61/100\n",
      "1/1 - 2s - loss: 172.1805 - acc: 0.8601 - auc_roc: 0.7521 - auc_pr: 0.3059 - val_loss: 42.9826 - val_acc: 0.8600 - val_auc_roc: 0.7662 - val_auc_pr: 0.3490\n",
      "Epoch 62/100\n",
      "1/1 - 3s - loss: 171.7731 - acc: 0.8601 - auc_roc: 0.7571 - auc_pr: 0.3075 - val_loss: 42.9329 - val_acc: 0.8600 - val_auc_roc: 0.7676 - val_auc_pr: 0.3487\n",
      "Epoch 63/100\n",
      "1/1 - 2s - loss: 171.3189 - acc: 0.8601 - auc_roc: 0.7541 - auc_pr: 0.3012 - val_loss: 42.8828 - val_acc: 0.8600 - val_auc_roc: 0.7664 - val_auc_pr: 0.3387\n",
      "Epoch 64/100\n",
      "1/1 - 2s - loss: 171.5386 - acc: 0.8601 - auc_roc: 0.7537 - auc_pr: 0.3103 - val_loss: 42.8326 - val_acc: 0.8600 - val_auc_roc: 0.7679 - val_auc_pr: 0.3420\n",
      "Epoch 65/100\n",
      "1/1 - 2s - loss: 171.0103 - acc: 0.8601 - auc_roc: 0.7606 - auc_pr: 0.3129 - val_loss: 42.7825 - val_acc: 0.8600 - val_auc_roc: 0.7683 - val_auc_pr: 0.3439\n",
      "Epoch 66/100\n",
      "1/1 - 2s - loss: 170.8887 - acc: 0.8601 - auc_roc: 0.7580 - auc_pr: 0.3129 - val_loss: 42.7324 - val_acc: 0.8600 - val_auc_roc: 0.7682 - val_auc_pr: 0.3441\n",
      "Epoch 67/100\n",
      "1/1 - 2s - loss: 170.7061 - acc: 0.8601 - auc_roc: 0.7590 - auc_pr: 0.3095 - val_loss: 42.6820 - val_acc: 0.8600 - val_auc_roc: 0.7700 - val_auc_pr: 0.3458\n",
      "Epoch 68/100\n",
      "1/1 - 2s - loss: 170.7657 - acc: 0.8601 - auc_roc: 0.7562 - auc_pr: 0.3128 - val_loss: 42.6315 - val_acc: 0.8600 - val_auc_roc: 0.7706 - val_auc_pr: 0.3533\n",
      "Epoch 69/100\n",
      "1/1 - 2s - loss: 170.6368 - acc: 0.8601 - auc_roc: 0.7579 - auc_pr: 0.3188 - val_loss: 42.5804 - val_acc: 0.8600 - val_auc_roc: 0.7718 - val_auc_pr: 0.3484\n",
      "Epoch 70/100\n",
      "1/1 - 2s - loss: 170.0515 - acc: 0.8601 - auc_roc: 0.7618 - auc_pr: 0.3214 - val_loss: 42.5294 - val_acc: 0.8600 - val_auc_roc: 0.7735 - val_auc_pr: 0.3588\n",
      "Epoch 71/100\n",
      "1/1 - 2s - loss: 169.9421 - acc: 0.8601 - auc_roc: 0.7621 - auc_pr: 0.3167 - val_loss: 42.4793 - val_acc: 0.8600 - val_auc_roc: 0.7715 - val_auc_pr: 0.3495\n",
      "Epoch 72/100\n",
      "1/1 - 3s - loss: 169.9624 - acc: 0.8601 - auc_roc: 0.7621 - auc_pr: 0.3167 - val_loss: 42.4298 - val_acc: 0.8600 - val_auc_roc: 0.7711 - val_auc_pr: 0.3476\n",
      "Epoch 73/100\n",
      "1/1 - 3s - loss: 169.2578 - acc: 0.8601 - auc_roc: 0.7663 - auc_pr: 0.3234 - val_loss: 42.3809 - val_acc: 0.8600 - val_auc_roc: 0.7712 - val_auc_pr: 0.3521\n",
      "Epoch 74/100\n",
      "1/1 - 2s - loss: 169.3293 - acc: 0.8601 - auc_roc: 0.7626 - auc_pr: 0.3162 - val_loss: 42.3323 - val_acc: 0.8600 - val_auc_roc: 0.7728 - val_auc_pr: 0.3524\n",
      "Epoch 75/100\n",
      "1/1 - 3s - loss: 169.0589 - acc: 0.8601 - auc_roc: 0.7638 - auc_pr: 0.3160 - val_loss: 42.2840 - val_acc: 0.8600 - val_auc_roc: 0.7719 - val_auc_pr: 0.3532\n",
      "Epoch 76/100\n",
      "1/1 - 2s - loss: 168.4915 - acc: 0.8596 - auc_roc: 0.7697 - auc_pr: 0.3247 - val_loss: 42.2360 - val_acc: 0.8589 - val_auc_roc: 0.7712 - val_auc_pr: 0.3532\n",
      "Epoch 77/100\n",
      "1/1 - 3s - loss: 168.7314 - acc: 0.8601 - auc_roc: 0.7648 - auc_pr: 0.3206 - val_loss: 42.1885 - val_acc: 0.8589 - val_auc_roc: 0.7728 - val_auc_pr: 0.3554\n",
      "Epoch 78/100\n",
      "1/1 - 3s - loss: 168.5479 - acc: 0.8596 - auc_roc: 0.7649 - auc_pr: 0.3257 - val_loss: 42.1411 - val_acc: 0.8589 - val_auc_roc: 0.7740 - val_auc_pr: 0.3522\n",
      "Epoch 79/100\n",
      "1/1 - 3s - loss: 167.8859 - acc: 0.8596 - auc_roc: 0.7681 - auc_pr: 0.3235 - val_loss: 42.0937 - val_acc: 0.8589 - val_auc_roc: 0.7758 - val_auc_pr: 0.3540\n",
      "Epoch 80/100\n",
      "1/1 - 4s - loss: 167.2075 - acc: 0.8599 - auc_roc: 0.7720 - auc_pr: 0.3283 - val_loss: 42.0471 - val_acc: 0.8589 - val_auc_roc: 0.7763 - val_auc_pr: 0.3561\n",
      "Epoch 81/100\n",
      "1/1 - 3s - loss: 167.7795 - acc: 0.8599 - auc_roc: 0.7675 - auc_pr: 0.3194 - val_loss: 42.0006 - val_acc: 0.8589 - val_auc_roc: 0.7766 - val_auc_pr: 0.3526\n",
      "Epoch 82/100\n",
      "1/1 - 2s - loss: 167.3010 - acc: 0.8593 - auc_roc: 0.7708 - auc_pr: 0.3252 - val_loss: 41.9540 - val_acc: 0.8589 - val_auc_roc: 0.7765 - val_auc_pr: 0.3529\n",
      "Epoch 83/100\n",
      "1/1 - 2s - loss: 166.8076 - acc: 0.8596 - auc_roc: 0.7720 - auc_pr: 0.3297 - val_loss: 41.9073 - val_acc: 0.8578 - val_auc_roc: 0.7785 - val_auc_pr: 0.3629\n",
      "Epoch 84/100\n",
      "1/1 - 2s - loss: 167.1315 - acc: 0.8593 - auc_roc: 0.7705 - auc_pr: 0.3247 - val_loss: 41.8600 - val_acc: 0.8578 - val_auc_roc: 0.7788 - val_auc_pr: 0.3654\n",
      "Epoch 85/100\n",
      "1/1 - 2s - loss: 166.9022 - acc: 0.8593 - auc_roc: 0.7711 - auc_pr: 0.3256 - val_loss: 41.8127 - val_acc: 0.8567 - val_auc_roc: 0.7776 - val_auc_pr: 0.3558\n",
      "Epoch 86/100\n",
      "1/1 - 2s - loss: 166.3356 - acc: 0.8579 - auc_roc: 0.7731 - auc_pr: 0.3280 - val_loss: 41.7661 - val_acc: 0.8567 - val_auc_roc: 0.7764 - val_auc_pr: 0.3480\n",
      "Epoch 87/100\n",
      "1/1 - 3s - loss: 166.0916 - acc: 0.8574 - auc_roc: 0.7747 - auc_pr: 0.3305 - val_loss: 41.7201 - val_acc: 0.8567 - val_auc_roc: 0.7786 - val_auc_pr: 0.3564\n",
      "Epoch 88/100\n",
      "1/1 - 3s - loss: 166.1830 - acc: 0.8557 - auc_roc: 0.7744 - auc_pr: 0.3293 - val_loss: 41.6742 - val_acc: 0.8556 - val_auc_roc: 0.7792 - val_auc_pr: 0.3586\n",
      "Epoch 89/100\n",
      "1/1 - 3s - loss: 165.5795 - acc: 0.8557 - auc_roc: 0.7754 - auc_pr: 0.3280 - val_loss: 41.6289 - val_acc: 0.8556 - val_auc_roc: 0.7781 - val_auc_pr: 0.3615\n",
      "Epoch 90/100\n",
      "1/1 - 3s - loss: 165.6057 - acc: 0.8546 - auc_roc: 0.7740 - auc_pr: 0.3265 - val_loss: 41.5840 - val_acc: 0.8556 - val_auc_roc: 0.7791 - val_auc_pr: 0.3635\n",
      "Epoch 91/100\n",
      "1/1 - 3s - loss: 165.2041 - acc: 0.8538 - auc_roc: 0.7765 - auc_pr: 0.3322 - val_loss: 41.5396 - val_acc: 0.8567 - val_auc_roc: 0.7786 - val_auc_pr: 0.3597\n",
      "Epoch 92/100\n",
      "1/1 - 3s - loss: 165.1419 - acc: 0.8541 - auc_roc: 0.7762 - auc_pr: 0.3301 - val_loss: 41.4956 - val_acc: 0.8567 - val_auc_roc: 0.7801 - val_auc_pr: 0.3593\n",
      "Epoch 93/100\n",
      "1/1 - 3s - loss: 165.0040 - acc: 0.8541 - auc_roc: 0.7759 - auc_pr: 0.3317 - val_loss: 41.4516 - val_acc: 0.8578 - val_auc_roc: 0.7807 - val_auc_pr: 0.3601\n",
      "Epoch 94/100\n",
      "1/1 - 2s - loss: 164.6065 - acc: 0.8557 - auc_roc: 0.7777 - auc_pr: 0.3319 - val_loss: 41.4067 - val_acc: 0.8578 - val_auc_roc: 0.7798 - val_auc_pr: 0.3596\n",
      "Epoch 95/100\n",
      "1/1 - 2s - loss: 164.3838 - acc: 0.8530 - auc_roc: 0.7781 - auc_pr: 0.3336 - val_loss: 41.3616 - val_acc: 0.8567 - val_auc_roc: 0.7810 - val_auc_pr: 0.3598\n",
      "Epoch 96/100\n",
      "1/1 - 2s - loss: 163.9248 - acc: 0.8552 - auc_roc: 0.7797 - auc_pr: 0.3370 - val_loss: 41.3162 - val_acc: 0.8578 - val_auc_roc: 0.7821 - val_auc_pr: 0.3600\n",
      "Epoch 97/100\n",
      "1/1 - 2s - loss: 163.9682 - acc: 0.8532 - auc_roc: 0.7782 - auc_pr: 0.3286 - val_loss: 41.2713 - val_acc: 0.8578 - val_auc_roc: 0.7816 - val_auc_pr: 0.3613\n",
      "Epoch 98/100\n",
      "1/1 - 2s - loss: 163.6987 - acc: 0.8516 - auc_roc: 0.7794 - auc_pr: 0.3340 - val_loss: 41.2267 - val_acc: 0.8589 - val_auc_roc: 0.7815 - val_auc_pr: 0.3601\n",
      "Epoch 99/100\n",
      "1/1 - 2s - loss: 163.4675 - acc: 0.8510 - auc_roc: 0.7794 - auc_pr: 0.3326 - val_loss: 41.1824 - val_acc: 0.8600 - val_auc_roc: 0.7829 - val_auc_pr: 0.3669\n",
      "Epoch 100/100\n",
      "1/1 - 2s - loss: 162.9179 - acc: 0.8508 - auc_roc: 0.7817 - auc_pr: 0.3338 - val_loss: 41.1391 - val_acc: 0.8600 - val_auc_roc: 0.7825 - val_auc_pr: 0.3670\n"
     ]
    }
   ],
   "source": [
    "history = model.fit(\n",
    "    train_gen,\n",
    "    epochs=100,\n",
    "    validation_data=val_gen,\n",
    "    verbose=2,\n",
    "    shuffle=False,  # manter em falso, uma vez que embaralhar os dados significa embaralhar todo o grafo\n",
    "    #callbacks=[es_callback, mc_callback],\n",
    ")"
   ]
  },
  {
   "cell_type": "code",
   "execution_count": 18,
   "metadata": {},
   "outputs": [
    {
     "data": {
      "text/html": [
       "<div>\n",
       "<style scoped>\n",
       "    .dataframe tbody tr th:only-of-type {\n",
       "        vertical-align: middle;\n",
       "    }\n",
       "\n",
       "    .dataframe tbody tr th {\n",
       "        vertical-align: top;\n",
       "    }\n",
       "\n",
       "    .dataframe thead th {\n",
       "        text-align: right;\n",
       "    }\n",
       "</style>\n",
       "<table border=\"1\" class=\"dataframe\">\n",
       "  <thead>\n",
       "    <tr style=\"text-align: right;\">\n",
       "      <th></th>\n",
       "      <th>Predicted</th>\n",
       "      <th>Probability</th>\n",
       "      <th>True</th>\n",
       "    </tr>\n",
       "    <tr>\n",
       "      <th>gene</th>\n",
       "      <th></th>\n",
       "      <th></th>\n",
       "      <th></th>\n",
       "    </tr>\n",
       "  </thead>\n",
       "  <tbody>\n",
       "    <tr>\n",
       "      <th>OSR1</th>\n",
       "      <td>0.0</td>\n",
       "      <td>0.493197</td>\n",
       "      <td>0.0</td>\n",
       "    </tr>\n",
       "    <tr>\n",
       "      <th>TRMT61A</th>\n",
       "      <td>0.0</td>\n",
       "      <td>0.134137</td>\n",
       "      <td>0.0</td>\n",
       "    </tr>\n",
       "    <tr>\n",
       "      <th>PYDC2</th>\n",
       "      <td>0.0</td>\n",
       "      <td>0.290970</td>\n",
       "      <td>0.0</td>\n",
       "    </tr>\n",
       "    <tr>\n",
       "      <th>SS18L1</th>\n",
       "      <td>0.0</td>\n",
       "      <td>0.493209</td>\n",
       "      <td>1.0</td>\n",
       "    </tr>\n",
       "    <tr>\n",
       "      <th>FRMD6</th>\n",
       "      <td>0.0</td>\n",
       "      <td>0.435104</td>\n",
       "      <td>0.0</td>\n",
       "    </tr>\n",
       "    <tr>\n",
       "      <th>...</th>\n",
       "      <td>...</td>\n",
       "      <td>...</td>\n",
       "      <td>...</td>\n",
       "    </tr>\n",
       "    <tr>\n",
       "      <th>HDAC4</th>\n",
       "      <td>0.0</td>\n",
       "      <td>0.493361</td>\n",
       "      <td>1.0</td>\n",
       "    </tr>\n",
       "    <tr>\n",
       "      <th>GCG</th>\n",
       "      <td>0.0</td>\n",
       "      <td>0.321607</td>\n",
       "      <td>0.0</td>\n",
       "    </tr>\n",
       "    <tr>\n",
       "      <th>CBR1</th>\n",
       "      <td>0.0</td>\n",
       "      <td>0.414008</td>\n",
       "      <td>0.0</td>\n",
       "    </tr>\n",
       "    <tr>\n",
       "      <th>APOBEC3F</th>\n",
       "      <td>0.0</td>\n",
       "      <td>0.180567</td>\n",
       "      <td>0.0</td>\n",
       "    </tr>\n",
       "    <tr>\n",
       "      <th>KIF5B</th>\n",
       "      <td>0.0</td>\n",
       "      <td>0.467921</td>\n",
       "      <td>1.0</td>\n",
       "    </tr>\n",
       "  </tbody>\n",
       "</table>\n",
       "<p>3625 rows × 3 columns</p>\n",
       "</div>"
      ],
      "text/plain": [
       "          Predicted  Probability  True\n",
       "gene                                  \n",
       "OSR1            0.0     0.493197   0.0\n",
       "TRMT61A         0.0     0.134137   0.0\n",
       "PYDC2           0.0     0.290970   0.0\n",
       "SS18L1          0.0     0.493209   1.0\n",
       "FRMD6           0.0     0.435104   0.0\n",
       "...             ...          ...   ...\n",
       "HDAC4           0.0     0.493361   1.0\n",
       "GCG             0.0     0.321607   0.0\n",
       "CBR1            0.0     0.414008   0.0\n",
       "APOBEC3F        0.0     0.180567   0.0\n",
       "KIF5B           0.0     0.467921   1.0\n",
       "\n",
       "[3625 rows x 3 columns]"
      ]
     },
     "execution_count": 18,
     "metadata": {},
     "output_type": "execute_result"
    }
   ],
   "source": [
    "# Gerando um dataframe com as probabilidades na etapa de treinamento\n",
    "\n",
    "nodes_train = train_temp.index\n",
    "gen_train = generator.flow(nodes_train)\n",
    "train_predictions = model.predict(gen_train)\n",
    "\n",
    "train_predictions2 = target_encoding.inverse_transform(train_predictions.squeeze())\n",
    "\n",
    "train_probs = pd.DataFrame({\"Predicted\": train_predictions2, \"Probability\": train_predictions.squeeze(), \"True\": train_temp['label']})\n",
    "\n",
    "train_probs"
   ]
  },
  {
   "cell_type": "code",
   "execution_count": 19,
   "metadata": {},
   "outputs": [
    {
     "data": {
      "image/png": "[encoded data removed]",
      "text/plain": [
       "<Figure size 1080x504 with 1 Axes>"
      ]
     },
     "metadata": {
      "needs_background": "light"
     },
     "output_type": "display_data"
    }
   ],
   "source": [
    "plt.figure(figsize=(15,7))\n",
    "plt.hist(train_probs['Probability'], bins=50, alpha=0.7, color='b')\n",
    "plt.xlabel('Probability', fontsize=18)\n",
    "plt.show() "
   ]
  },
  {
   "cell_type": "code",
   "execution_count": 20,
   "metadata": {},
   "outputs": [
    {
     "data": {
      "text/html": [
       "<div>\n",
       "<style scoped>\n",
       "    .dataframe tbody tr th:only-of-type {\n",
       "        vertical-align: middle;\n",
       "    }\n",
       "\n",
       "    .dataframe tbody tr th {\n",
       "        vertical-align: top;\n",
       "    }\n",
       "\n",
       "    .dataframe thead th {\n",
       "        text-align: right;\n",
       "    }\n",
       "</style>\n",
       "<table border=\"1\" class=\"dataframe\">\n",
       "  <thead>\n",
       "    <tr style=\"text-align: right;\">\n",
       "      <th></th>\n",
       "      <th>Predicted</th>\n",
       "      <th>Probability</th>\n",
       "      <th>True</th>\n",
       "    </tr>\n",
       "    <tr>\n",
       "      <th>gene</th>\n",
       "      <th></th>\n",
       "      <th></th>\n",
       "      <th></th>\n",
       "    </tr>\n",
       "  </thead>\n",
       "  <tbody>\n",
       "    <tr>\n",
       "      <th>PMM1</th>\n",
       "      <td>0.0</td>\n",
       "      <td>0.377296</td>\n",
       "      <td>0.0</td>\n",
       "    </tr>\n",
       "    <tr>\n",
       "      <th>NUP205</th>\n",
       "      <td>0.0</td>\n",
       "      <td>0.213296</td>\n",
       "      <td>0.0</td>\n",
       "    </tr>\n",
       "    <tr>\n",
       "      <th>CIITA</th>\n",
       "      <td>0.0</td>\n",
       "      <td>0.494303</td>\n",
       "      <td>1.0</td>\n",
       "    </tr>\n",
       "    <tr>\n",
       "      <th>NCOR2</th>\n",
       "      <td>1.0</td>\n",
       "      <td>0.502197</td>\n",
       "      <td>1.0</td>\n",
       "    </tr>\n",
       "    <tr>\n",
       "      <th>ST7</th>\n",
       "      <td>0.0</td>\n",
       "      <td>0.426955</td>\n",
       "      <td>0.0</td>\n",
       "    </tr>\n",
       "    <tr>\n",
       "      <th>...</th>\n",
       "      <td>...</td>\n",
       "      <td>...</td>\n",
       "      <td>...</td>\n",
       "    </tr>\n",
       "    <tr>\n",
       "      <th>MFSD3</th>\n",
       "      <td>0.0</td>\n",
       "      <td>0.372364</td>\n",
       "      <td>0.0</td>\n",
       "    </tr>\n",
       "    <tr>\n",
       "      <th>SSR1</th>\n",
       "      <td>0.0</td>\n",
       "      <td>0.437768</td>\n",
       "      <td>0.0</td>\n",
       "    </tr>\n",
       "    <tr>\n",
       "      <th>INSC</th>\n",
       "      <td>0.0</td>\n",
       "      <td>0.443032</td>\n",
       "      <td>0.0</td>\n",
       "    </tr>\n",
       "    <tr>\n",
       "      <th>DOCK9</th>\n",
       "      <td>0.0</td>\n",
       "      <td>0.425264</td>\n",
       "      <td>0.0</td>\n",
       "    </tr>\n",
       "    <tr>\n",
       "      <th>IL27RA</th>\n",
       "      <td>0.0</td>\n",
       "      <td>0.464012</td>\n",
       "      <td>0.0</td>\n",
       "    </tr>\n",
       "  </tbody>\n",
       "</table>\n",
       "<p>907 rows × 3 columns</p>\n",
       "</div>"
      ],
      "text/plain": [
       "        Predicted  Probability  True\n",
       "gene                                \n",
       "PMM1          0.0     0.377296   0.0\n",
       "NUP205        0.0     0.213296   0.0\n",
       "CIITA         0.0     0.494303   1.0\n",
       "NCOR2         1.0     0.502197   1.0\n",
       "ST7           0.0     0.426955   0.0\n",
       "...           ...          ...   ...\n",
       "MFSD3         0.0     0.372364   0.0\n",
       "SSR1          0.0     0.437768   0.0\n",
       "INSC          0.0     0.443032   0.0\n",
       "DOCK9         0.0     0.425264   0.0\n",
       "IL27RA        0.0     0.464012   0.0\n",
       "\n",
       "[907 rows x 3 columns]"
      ]
     },
     "execution_count": 20,
     "metadata": {},
     "output_type": "execute_result"
    }
   ],
   "source": [
    "# Gerando um dataframe com as probabilidades na etapa de validação\n",
    "\n",
    "nodes_val = labeled_val.index\n",
    "gen_val = generator.flow(nodes_val)\n",
    "val_predictions = model.predict(gen_val)\n",
    "\n",
    "val_predictions2 = target_encoding.inverse_transform(val_predictions.squeeze())\n",
    "\n",
    "val_probs = pd.DataFrame({\"Predicted\": val_predictions2, \"Probability\": val_predictions.squeeze(), \"True\": labeled_val['label']})\n",
    "\n",
    "val_probs"
   ]
  },
  {
   "cell_type": "code",
   "execution_count": 21,
   "metadata": {},
   "outputs": [
    {
     "data": {
      "text/html": [
       "<div>\n",
       "<style scoped>\n",
       "    .dataframe tbody tr th:only-of-type {\n",
       "        vertical-align: middle;\n",
       "    }\n",
       "\n",
       "    .dataframe tbody tr th {\n",
       "        vertical-align: top;\n",
       "    }\n",
       "\n",
       "    .dataframe thead th {\n",
       "        text-align: right;\n",
       "    }\n",
       "</style>\n",
       "<table border=\"1\" class=\"dataframe\">\n",
       "  <thead>\n",
       "    <tr style=\"text-align: right;\">\n",
       "      <th></th>\n",
       "      <th>Predicted</th>\n",
       "      <th>Probability</th>\n",
       "      <th>True</th>\n",
       "    </tr>\n",
       "  </thead>\n",
       "  <tbody>\n",
       "    <tr>\n",
       "      <th>count</th>\n",
       "      <td>907.000000</td>\n",
       "      <td>907.000000</td>\n",
       "      <td>907.000000</td>\n",
       "    </tr>\n",
       "    <tr>\n",
       "      <th>mean</th>\n",
       "      <td>0.022051</td>\n",
       "      <td>0.410945</td>\n",
       "      <td>0.140022</td>\n",
       "    </tr>\n",
       "    <tr>\n",
       "      <th>std</th>\n",
       "      <td>0.146930</td>\n",
       "      <td>0.077062</td>\n",
       "      <td>0.347201</td>\n",
       "    </tr>\n",
       "    <tr>\n",
       "      <th>min</th>\n",
       "      <td>0.000000</td>\n",
       "      <td>0.050838</td>\n",
       "      <td>0.000000</td>\n",
       "    </tr>\n",
       "    <tr>\n",
       "      <th>25%</th>\n",
       "      <td>0.000000</td>\n",
       "      <td>0.385726</td>\n",
       "      <td>0.000000</td>\n",
       "    </tr>\n",
       "    <tr>\n",
       "      <th>50%</th>\n",
       "      <td>0.000000</td>\n",
       "      <td>0.432144</td>\n",
       "      <td>0.000000</td>\n",
       "    </tr>\n",
       "    <tr>\n",
       "      <th>75%</th>\n",
       "      <td>0.000000</td>\n",
       "      <td>0.460403</td>\n",
       "      <td>0.000000</td>\n",
       "    </tr>\n",
       "    <tr>\n",
       "      <th>max</th>\n",
       "      <td>1.000000</td>\n",
       "      <td>0.535462</td>\n",
       "      <td>1.000000</td>\n",
       "    </tr>\n",
       "  </tbody>\n",
       "</table>\n",
       "</div>"
      ],
      "text/plain": [
       "        Predicted  Probability        True\n",
       "count  907.000000   907.000000  907.000000\n",
       "mean     0.022051     0.410945    0.140022\n",
       "std      0.146930     0.077062    0.347201\n",
       "min      0.000000     0.050838    0.000000\n",
       "25%      0.000000     0.385726    0.000000\n",
       "50%      0.000000     0.432144    0.000000\n",
       "75%      0.000000     0.460403    0.000000\n",
       "max      1.000000     0.535462    1.000000"
      ]
     },
     "execution_count": 21,
     "metadata": {},
     "output_type": "execute_result"
    }
   ],
   "source": [
    "val_probs.describe()"
   ]
  },
  {
   "cell_type": "code",
   "execution_count": 22,
   "metadata": {},
   "outputs": [
    {
     "data": {
      "image/png": "[encoded data removed]",
      "text/plain": [
       "<Figure size 1080x504 with 1 Axes>"
      ]
     },
     "metadata": {
      "needs_background": "light"
     },
     "output_type": "display_data"
    }
   ],
   "source": [
    "plt.figure(figsize=(15,7))\n",
    "plt.hist(val_probs['Probability'], bins=50, alpha=0.7, color='b')\n",
    "plt.xlabel('Probability', fontsize=18)\n",
    "plt.show() "
   ]
  },
  {
   "cell_type": "code",
   "execution_count": 23,
   "metadata": {},
   "outputs": [
    {
     "data": {
      "image/png": "[encoded data removed]",
      "text/plain": [
       "<Figure size 504x1152 with 4 Axes>"
      ]
     },
     "metadata": {
      "needs_background": "light"
     },
     "output_type": "display_data"
    }
   ],
   "source": [
    "sg.utils.plot_history(history)"
   ]
  },
  {
   "cell_type": "code",
   "execution_count": 24,
   "metadata": {},
   "outputs": [
    {
     "name": "stdout",
     "output_type": "stream",
     "text": [
      "1/1 [==============================] - 0s 448ms/step - loss: 53.5072 - acc: 0.8571 - auc_roc: 0.7255 - auc_pr: 0.3234\n",
      "\n",
      "Test Set Metrics:\n",
      "\tloss: 53.5072\n",
      "\tacc: 0.8571\n",
      "\tauc_roc: 0.7255\n",
      "\tauc_pr: 0.3234\n"
     ]
    }
   ],
   "source": [
    "#model.load_weights(\"logs/best_model.h5\")\n",
    "\n",
    "test_gen = generator.flow(labeled_test.index, test_targets)\n",
    "test_metrics = model.evaluate(test_gen)\n",
    "\n",
    "print(\"\\nTest Set Metrics:\")\n",
    "for name, val in zip(model.metrics_names, test_metrics):\n",
    "    print(\"\\t{}: {:0.4f}\".format(name, val))"
   ]
  },
  {
   "cell_type": "code",
   "execution_count": 25,
   "metadata": {},
   "outputs": [],
   "source": [
    "all_nodes = series_classes.index\n",
    "all_gen = generator.flow(all_nodes)\n",
    "all_predictions = model.predict(all_gen)"
   ]
  },
  {
   "cell_type": "code",
   "execution_count": 26,
   "metadata": {},
   "outputs": [
    {
     "data": {
      "image/png": "[encoded data removed]",
      "text/plain": [
       "<Figure size 1080x504 with 1 Axes>"
      ]
     },
     "metadata": {
      "needs_background": "light"
     },
     "output_type": "display_data"
    }
   ],
   "source": [
    "plt.figure(figsize=(15,7))\n",
    "plt.hist(all_predictions.squeeze(), bins=50, alpha=0.7, color='b')\n",
    "plt.xlabel('Probability', fontsize=18)\n",
    "plt.show() "
   ]
  },
  {
   "cell_type": "code",
   "execution_count": 27,
   "metadata": {},
   "outputs": [
    {
     "name": "stdout",
     "output_type": "stream",
     "text": [
      " 0.0    4873\n",
      "-1.0    3772\n",
      " 1.0     793\n",
      "Name: True, dtype: int64 \n",
      "\n"
     ]
    },
    {
     "data": {
      "text/plain": [
       "0.0    9136\n",
       "1.0     302\n",
       "Name: Predicted, dtype: int64"
      ]
     },
     "execution_count": 27,
     "metadata": {},
     "output_type": "execute_result"
    }
   ],
   "source": [
    "node_predictions = target_encoding.inverse_transform(all_predictions.squeeze())\n",
    "df = pd.DataFrame({\"Predicted\": node_predictions, \"True\": series_classes})\n",
    "\n",
    "#df.head(20)\n",
    "\n",
    "print(df['True'].value_counts(), \"\\n\")\n",
    "df['Predicted'].value_counts()"
   ]
  },
  {
   "cell_type": "code",
   "execution_count": 28,
   "metadata": {},
   "outputs": [
    {
     "data": {
      "text/plain": [
       "array([[   0, 3646,  126],\n",
       "       [   0, 4767,  106],\n",
       "       [   0,  723,   70]], dtype=int64)"
      ]
     },
     "execution_count": 28,
     "metadata": {},
     "output_type": "execute_result"
    }
   ],
   "source": [
    "from sklearn.metrics import confusion_matrix\n",
    "\n",
    "confusion_matrix(series_classes, node_predictions)"
   ]
  }
 ],
 "metadata": {
  "interpreter": {
   "hash": "377d7a386a44a88aae8c34a08bf9c5a42083beb2aa1718a5ef987e2fcb7e0f84"
  },
  "kernelspec": {
   "display_name": "Python 3",
   "language": "python",
   "name": "python3"
  },
  "language_info": {
   "codemirror_mode": {
    "name": "ipython",
    "version": 3
   },
   "file_extension": ".py",
   "mimetype": "text/x-python",
   "name": "python",
   "nbconvert_exporter": "python",
   "pygments_lexer": "ipython3",
   "version": "3.8.10"
  },
  "orig_nbformat": 4
 },
 "nbformat": 4,
 "nbformat_minor": 2
}
